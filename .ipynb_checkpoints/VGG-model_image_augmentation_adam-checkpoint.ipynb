version https://git-lfs.github.com/spec/v1
oid sha256:0c7b399a6df3b074a182e22ad11d7e68b1f1f8bf677f58fde3066fca1f5b5b38
size 241424
