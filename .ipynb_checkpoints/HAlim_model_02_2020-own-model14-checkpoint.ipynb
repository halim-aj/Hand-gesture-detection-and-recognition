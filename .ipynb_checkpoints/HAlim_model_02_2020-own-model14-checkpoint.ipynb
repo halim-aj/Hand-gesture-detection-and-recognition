version https://git-lfs.github.com/spec/v1
oid sha256:2d96b63bd517056f249610e617f46265ad5cfa2f4d4c9340730111229bf8ad3c
size 247128
