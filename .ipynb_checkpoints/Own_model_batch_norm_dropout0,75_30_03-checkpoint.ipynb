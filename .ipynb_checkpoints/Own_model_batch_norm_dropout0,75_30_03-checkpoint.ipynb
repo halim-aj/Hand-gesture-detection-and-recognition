{
 "cells": [
  {
   "cell_type": "code",
   "execution_count": 1,
   "metadata": {},
   "outputs": [],
   "source": [
    "import pickle\n",
    "import tensorflow as tf\n",
    "import numpy as np\n",
    "import matplotlib.pyplot as plt\n",
    "from util import allCategories,procImage,getCategory,oneHot,show"
   ]
  },
  {
   "cell_type": "code",
   "execution_count": 2,
   "metadata": {},
   "outputs": [],
   "source": [
    "X = pickle.load(open(\"formatted_dataset/X.pickle\",\"rb\"))\n",
    "Y = pickle.load(open(\"formatted_dataset/Y.pickle\",\"rb\"))\n",
    "X_test = pickle.load(open(\"formatted_dataset/X_test.pickle\",\"rb\"))\n",
    "Y_test = pickle.load(open(\"formatted_dataset/Y_test.pickle\",\"rb\"))"
   ]
  },
  {
   "cell_type": "code",
   "execution_count": 3,
   "metadata": {},
   "outputs": [
    {
     "data": {
      "text/plain": [
       "(3300, 120, 100, 1)"
      ]
     },
     "execution_count": 3,
     "metadata": {},
     "output_type": "execute_result"
    }
   ],
   "source": [
    "X.shape"
   ]
  },
  {
   "cell_type": "code",
   "execution_count": 4,
   "metadata": {},
   "outputs": [],
   "source": [
    "x_train = tf.keras.utils.normalize(X, axis = 1)\n",
    "y_train = tf.keras.utils.normalize(Y, axis = 1)\n",
    "X_test_norm = tf.keras.utils.normalize(X_test,axis = 1)\n",
    "Y_test_norm = tf.keras.utils.normalize(Y_test, axis = 1)"
   ]
  },
  {
   "cell_type": "code",
   "execution_count": 5,
   "metadata": {},
   "outputs": [],
   "source": [
    "# print(X.shape)\n",
    "# print(Y.shape)\n",
    "# print(X_test.shape)\n",
    "# print(Y_test.shape)"
   ]
  },
  {
   "cell_type": "code",
   "execution_count": 6,
   "metadata": {},
   "outputs": [],
   "source": [
    "#show(X,Y,15)"
   ]
  },
  {
   "cell_type": "code",
   "execution_count": 7,
   "metadata": {},
   "outputs": [
    {
     "name": "stdout",
     "output_type": "stream",
     "text": [
      "WARNING:tensorflow:From C:\\Users\\Halim\\Anaconda3\\lib\\site-packages\\tensorflow\\python\\ops\\init_ops.py:1251: calling VarianceScaling.__init__ (from tensorflow.python.ops.init_ops) with dtype is deprecated and will be removed in a future version.\n",
      "Instructions for updating:\n",
      "Call initializer instance with the dtype argument instead of passing it to the constructor\n",
      "WARNING:tensorflow:Large dropout rate: 0.75 (>0.5). In TensorFlow 2.x, dropout() uses dropout rate instead of keep_prob. Please ensure that this is intended.\n",
      "WARNING:tensorflow:Large dropout rate: 0.75 (>0.5). In TensorFlow 2.x, dropout() uses dropout rate instead of keep_prob. Please ensure that this is intended.\n"
     ]
    }
   ],
   "source": [
    "# Define the CNN Model \n",
    "# K.set_image_dim_ordering('th')\n",
    "from tensorflow.keras.layers import ZeroPadding2D,BatchNormalization\n",
    "model = tf.keras.models.Sequential()\n",
    "\n",
    "model.add(tf.keras.layers.Conv2D(32, (3, 3), activation='relu', input_shape=x_train.shape[1:]))\n",
    "#model.add(tf.keras.layers.Activation(\"relu\"))\n",
    "model.add(tf.keras.layers.MaxPooling2D(pool_size=(2,2)))\n",
    "\n",
    "model.add(tf.keras.layers.Conv2D(64,(3,3)))\n",
    "model.add(tf.keras.layers.Activation(\"relu\"))\n",
    "model.add(tf.keras.layers.MaxPooling2D(pool_size=(2,2)))\n",
    "model.add(BatchNormalization())\n",
    "model.add(ZeroPadding2D((1,1)))\n",
    "\n",
    "model.add(tf.keras.layers.Conv2D(128,(3,3)))\n",
    "model.add(tf.keras.layers.Activation(\"relu\"))\n",
    "model.add(tf.keras.layers.MaxPooling2D(pool_size=(2,2)))\n",
    "model.add(BatchNormalization())\n",
    "model.add(ZeroPadding2D((1,1)))\n",
    "\n",
    "\n",
    "model.add(tf.keras.layers.Conv2D(256,(3,3)))\n",
    "model.add(tf.keras.layers.Activation(\"relu\"))\n",
    "model.add(tf.keras.layers.MaxPooling2D(pool_size=(2,2)))\n",
    "\n",
    "model.add(tf.keras.layers.Conv2D(512,(3,3)))\n",
    "model.add(tf.keras.layers.Activation(\"relu\"))\n",
    "model.add(tf.keras.layers.MaxPooling2D(pool_size=(2,2)))\n",
    "# model.add(tf.keras.layers.Dropout(0.4))\n",
    "model.add(tf.keras.layers.Flatten())\n",
    "model.add(tf.keras.layers.Dropout(0.75))\n",
    "model.add(tf.keras.layers.Dense(64))\n",
    "model.add(tf.keras.layers.Activation(\"relu\"))\n",
    "model.add(tf.keras.layers.Dropout(0.75))\n",
    "\n",
    "model.add(tf.keras.layers.Dense(6))\n",
    "\n",
    "model.add(tf.keras.layers.Activation('softmax'))\n",
    "\n",
    "# model.compile(loss=\"categorical_crossentropy\",optimizer='adam',metrics=['accuracy'])\n",
    "model.compile(loss=\"categorical_crossentropy\",optimizer='adam',metrics=['accuracy'])\n",
    "\n",
    "\n"
   ]
  },
  {
   "cell_type": "code",
   "execution_count": 8,
   "metadata": {},
   "outputs": [
    {
     "name": "stdout",
     "output_type": "stream",
     "text": [
      "Model: \"sequential\"\n",
      "_________________________________________________________________\n",
      "Layer (type)                 Output Shape              Param #   \n",
      "=================================================================\n",
      "conv2d (Conv2D)              (None, 118, 98, 32)       320       \n",
      "_________________________________________________________________\n",
      "max_pooling2d (MaxPooling2D) (None, 59, 49, 32)        0         \n",
      "_________________________________________________________________\n",
      "conv2d_1 (Conv2D)            (None, 57, 47, 64)        18496     \n",
      "_________________________________________________________________\n",
      "activation (Activation)      (None, 57, 47, 64)        0         \n",
      "_________________________________________________________________\n",
      "max_pooling2d_1 (MaxPooling2 (None, 28, 23, 64)        0         \n",
      "_________________________________________________________________\n",
      "batch_normalization (BatchNo (None, 28, 23, 64)        256       \n",
      "_________________________________________________________________\n",
      "zero_padding2d (ZeroPadding2 (None, 30, 25, 64)        0         \n",
      "_________________________________________________________________\n",
      "conv2d_2 (Conv2D)            (None, 28, 23, 128)       73856     \n",
      "_________________________________________________________________\n",
      "activation_1 (Activation)    (None, 28, 23, 128)       0         \n",
      "_________________________________________________________________\n",
      "max_pooling2d_2 (MaxPooling2 (None, 14, 11, 128)       0         \n",
      "_________________________________________________________________\n",
      "batch_normalization_1 (Batch (None, 14, 11, 128)       512       \n",
      "_________________________________________________________________\n",
      "zero_padding2d_1 (ZeroPaddin (None, 16, 13, 128)       0         \n",
      "_________________________________________________________________\n",
      "conv2d_3 (Conv2D)            (None, 14, 11, 256)       295168    \n",
      "_________________________________________________________________\n",
      "activation_2 (Activation)    (None, 14, 11, 256)       0         \n",
      "_________________________________________________________________\n",
      "max_pooling2d_3 (MaxPooling2 (None, 7, 5, 256)         0         \n",
      "_________________________________________________________________\n",
      "conv2d_4 (Conv2D)            (None, 5, 3, 512)         1180160   \n",
      "_________________________________________________________________\n",
      "activation_3 (Activation)    (None, 5, 3, 512)         0         \n",
      "_________________________________________________________________\n",
      "max_pooling2d_4 (MaxPooling2 (None, 2, 1, 512)         0         \n",
      "_________________________________________________________________\n",
      "flatten (Flatten)            (None, 1024)              0         \n",
      "_________________________________________________________________\n",
      "dropout (Dropout)            (None, 1024)              0         \n",
      "_________________________________________________________________\n",
      "dense (Dense)                (None, 64)                65600     \n",
      "_________________________________________________________________\n",
      "activation_4 (Activation)    (None, 64)                0         \n",
      "_________________________________________________________________\n",
      "dropout_1 (Dropout)          (None, 64)                0         \n",
      "_________________________________________________________________\n",
      "dense_1 (Dense)              (None, 6)                 390       \n",
      "_________________________________________________________________\n",
      "activation_5 (Activation)    (None, 6)                 0         \n",
      "=================================================================\n",
      "Total params: 1,634,758\n",
      "Trainable params: 1,634,374\n",
      "Non-trainable params: 384\n",
      "_________________________________________________________________\n"
     ]
    }
   ],
   "source": [
    "model.summary()"
   ]
  },
  {
   "cell_type": "code",
   "execution_count": 9,
   "metadata": {},
   "outputs": [
    {
     "name": "stdout",
     "output_type": "stream",
     "text": [
      "Train on 3300 samples, validate on 455 samples\n",
      "Epoch 1/40\n",
      "3300/3300 - 64s - loss: 2.3597 - acc: 0.1755 - val_loss: 1.7918 - val_acc: 0.1648\n",
      "Epoch 2/40\n",
      "3300/3300 - 92s - loss: 1.8465 - acc: 0.1791 - val_loss: 1.7919 - val_acc: 0.1648\n",
      "Epoch 3/40\n",
      "3300/3300 - 94s - loss: 1.8147 - acc: 0.1785 - val_loss: 1.7919 - val_acc: 0.1648\n",
      "Epoch 4/40\n",
      "3300/3300 - 94s - loss: 1.7991 - acc: 0.1845 - val_loss: 1.7650 - val_acc: 0.2659\n",
      "Epoch 5/40\n",
      "3300/3300 - 94s - loss: 1.8138 - acc: 0.1909 - val_loss: 1.7775 - val_acc: 0.2374\n",
      "Epoch 6/40\n",
      "3300/3300 - 93s - loss: 1.6999 - acc: 0.2482 - val_loss: 1.4908 - val_acc: 0.4352\n",
      "Epoch 7/40\n",
      "3300/3300 - 92s - loss: 1.5382 - acc: 0.3188 - val_loss: 1.0498 - val_acc: 0.6022\n",
      "Epoch 8/40\n",
      "3300/3300 - 94s - loss: 1.3305 - acc: 0.3794 - val_loss: 0.7929 - val_acc: 0.5495\n",
      "Epoch 9/40\n",
      "3300/3300 - 94s - loss: 1.1588 - acc: 0.4315 - val_loss: 0.8118 - val_acc: 0.6220\n",
      "Epoch 10/40\n",
      "3300/3300 - 94s - loss: 1.0714 - acc: 0.4933 - val_loss: 0.6695 - val_acc: 0.6440\n",
      "Epoch 11/40\n",
      "3300/3300 - 94s - loss: 0.9049 - acc: 0.5470 - val_loss: 0.6628 - val_acc: 0.7121\n",
      "Epoch 12/40\n",
      "3300/3300 - 90s - loss: 0.8102 - acc: 0.6115 - val_loss: 0.6879 - val_acc: 0.6747\n",
      "Epoch 13/40\n",
      "3300/3300 - 62s - loss: 0.7165 - acc: 0.6821 - val_loss: 0.4877 - val_acc: 0.7758\n",
      "Epoch 14/40\n",
      "3300/3300 - 61s - loss: 0.6570 - acc: 0.7306 - val_loss: 0.4757 - val_acc: 0.8000\n",
      "Epoch 15/40\n",
      "3300/3300 - 62s - loss: 0.5792 - acc: 0.7685 - val_loss: 0.4075 - val_acc: 0.8352\n",
      "Epoch 16/40\n",
      "3300/3300 - 61s - loss: 0.4689 - acc: 0.8355 - val_loss: 0.7208 - val_acc: 0.8198\n",
      "Epoch 17/40\n",
      "3300/3300 - 61s - loss: 0.3959 - acc: 0.8658 - val_loss: 0.1774 - val_acc: 0.9451\n",
      "Epoch 18/40\n",
      "3300/3300 - 61s - loss: 0.3394 - acc: 0.8855 - val_loss: 0.2110 - val_acc: 0.9429\n",
      "Epoch 19/40\n",
      "3300/3300 - 61s - loss: 0.3045 - acc: 0.9033 - val_loss: 0.1971 - val_acc: 0.9231\n",
      "Epoch 20/40\n",
      "3300/3300 - 61s - loss: 0.2934 - acc: 0.9106 - val_loss: 0.1768 - val_acc: 0.9121\n",
      "Epoch 21/40\n",
      "3300/3300 - 61s - loss: 0.2742 - acc: 0.9170 - val_loss: 0.2106 - val_acc: 0.8835\n",
      "Epoch 22/40\n",
      "3300/3300 - 61s - loss: 0.2345 - acc: 0.9261 - val_loss: 0.1636 - val_acc: 0.9407\n",
      "Epoch 23/40\n",
      "3300/3300 - 61s - loss: 0.2246 - acc: 0.9276 - val_loss: 0.2326 - val_acc: 0.8989\n",
      "Epoch 24/40\n",
      "3300/3300 - 61s - loss: 0.2195 - acc: 0.9297 - val_loss: 0.2154 - val_acc: 0.9253\n",
      "Epoch 25/40\n",
      "3300/3300 - 60s - loss: 0.2428 - acc: 0.9248 - val_loss: 0.1464 - val_acc: 0.9407\n",
      "Epoch 26/40\n",
      "3300/3300 - 61s - loss: 0.2390 - acc: 0.9291 - val_loss: 0.2111 - val_acc: 0.9143\n",
      "Epoch 27/40\n",
      "3300/3300 - 60s - loss: 0.1580 - acc: 0.9500 - val_loss: 0.0951 - val_acc: 0.9670\n",
      "Epoch 28/40\n",
      "3300/3300 - 61s - loss: 0.1920 - acc: 0.9452 - val_loss: 0.1614 - val_acc: 0.9187\n",
      "Epoch 29/40\n",
      "3300/3300 - 62s - loss: 0.1460 - acc: 0.9512 - val_loss: 0.3076 - val_acc: 0.9187\n",
      "Epoch 30/40\n",
      "3300/3300 - 61s - loss: 0.1478 - acc: 0.9548 - val_loss: 0.5391 - val_acc: 0.8989\n",
      "Epoch 31/40\n",
      "3300/3300 - 61s - loss: 0.1221 - acc: 0.9627 - val_loss: 0.0525 - val_acc: 0.9824\n",
      "Epoch 32/40\n",
      "3300/3300 - 60s - loss: 0.1148 - acc: 0.9667 - val_loss: 0.0685 - val_acc: 0.9714\n",
      "Epoch 33/40\n",
      "3300/3300 - 61s - loss: 0.1064 - acc: 0.9667 - val_loss: 0.0801 - val_acc: 0.9780\n",
      "Epoch 34/40\n",
      "3300/3300 - 61s - loss: 0.0954 - acc: 0.9673 - val_loss: 0.0657 - val_acc: 0.9736\n",
      "Epoch 35/40\n",
      "3300/3300 - 61s - loss: 0.0895 - acc: 0.9736 - val_loss: 0.0470 - val_acc: 0.9824\n",
      "Epoch 36/40\n",
      "3300/3300 - 61s - loss: 0.1046 - acc: 0.9718 - val_loss: 0.0601 - val_acc: 0.9714\n",
      "Epoch 37/40\n",
      "3300/3300 - 61s - loss: 0.0982 - acc: 0.9721 - val_loss: 0.4208 - val_acc: 0.9297\n",
      "Epoch 38/40\n",
      "3300/3300 - 61s - loss: 0.1055 - acc: 0.9691 - val_loss: 0.0350 - val_acc: 0.9802\n",
      "Epoch 39/40\n",
      "3300/3300 - 60s - loss: 0.0708 - acc: 0.9767 - val_loss: 0.0279 - val_acc: 0.9934\n",
      "Epoch 40/40\n",
      "3300/3300 - 61s - loss: 0.0702 - acc: 0.9773 - val_loss: 0.0380 - val_acc: 0.9802\n"
     ]
    }
   ],
   "source": [
    "history = model.fit(X,Y,validation_data=(X_test,Y_test),batch_size=32, epochs=40, verbose = 2)"
   ]
  },
  {
   "cell_type": "code",
   "execution_count": 16,
   "metadata": {},
   "outputs": [
    {
     "data": {
      "image/png": "[encoded data removed]",
      "text/plain": [
       "<Figure size 432x288 with 1 Axes>"
      ]
     },
     "metadata": {
      "needs_background": "light"
     },
     "output_type": "display_data"
    }
   ],
   "source": [
    "plt.plot(history.history['acc'], label='acc')\n",
    "plt.plot(history.history['val_acc'], label = 'val_acc')\n",
    "plt.xlabel('Epoch')\n",
    "plt.ylabel('Accuracy')\n",
    "plt.ylim([0.1, 1.2])\n",
    "plt.legend(loc='lower right')\n",
    "\n",
    "# test_loss, test_acc = model.evaluate(X_test_norm,  Y_test_norm, verbose=2)\n",
    "plt.show()"
   ]
  },
  {
   "cell_type": "code",
   "execution_count": 11,
   "metadata": {},
   "outputs": [
    {
     "data": {
      "image/png": "[encoded data removed]",
      "text/plain": [
       "<Figure size 432x288 with 1 Axes>"
      ]
     },
     "metadata": {
      "needs_background": "light"
     },
     "output_type": "display_data"
    }
   ],
   "source": [
    "plt.plot(history.history['loss'], label='loss')\n",
    "plt.plot(history.history['val_loss'], label = 'val_loss')\n",
    "plt.xlabel('Epoch')\n",
    "plt.ylabel('loss')\n",
    "plt.ylim([-0.10, 1.8])\n",
    "plt.legend(loc='upper right')\n",
    "\n",
    "# test_loss, test_acc = model.evaluate(X_test_norm,  Y_test_norm, verbose=2)\n",
    "plt.show()"
   ]
  },
  {
   "cell_type": "code",
   "execution_count": 12,
   "metadata": {},
   "outputs": [],
   "source": [
    "from datetime import date\n",
    "today = date.today()\n",
    "d = today.strftime(\"%d%m%Y\")\n",
    "model.save(\"TrainedModel/Own_model_batch_norm_dropout0,75_30_03\"+d+\".model\")"
   ]
  },
  {
   "cell_type": "code",
   "execution_count": 13,
   "metadata": {},
   "outputs": [],
   "source": [
    "#model2 = tf.keras.models.load_model(\"TrainedModel/own_lastmodel_version24022020.model\")"
   ]
  },
  {
   "cell_type": "code",
   "execution_count": 14,
   "metadata": {},
   "outputs": [
    {
     "name": "stdout",
     "output_type": "stream",
     "text": [
      "455/455 - 3s - loss: 0.0380 - acc: 0.9802\n"
     ]
    }
   ],
   "source": [
    "test_loss, test_acc = model.evaluate(X_test,Y_test, verbose=2)"
   ]
  },
  {
   "cell_type": "code",
   "execution_count": 15,
   "metadata": {},
   "outputs": [
    {
     "data": {
      "image/png": "[encoded data removed]",
      "text/plain": [
       "<Figure size 432x288 with 1 Axes>"
      ]
     },
     "metadata": {
      "needs_background": "light"
     },
     "output_type": "display_data"
    },
    {
     "name": "stdout",
     "output_type": "stream",
     "text": [
      "              precision    recall  f1-score   support\n",
      "\n",
      "        rock       0.93      1.00      0.96        75\n",
      "        Palm       0.96      1.00      0.98        80\n",
      "        Fist       1.00      1.00      1.00        75\n",
      "       swing       1.00      1.00      1.00        75\n",
      "           L       1.00      0.92      0.96        75\n",
      "        okay       1.00      0.96      0.98        75\n",
      "\n",
      "   micro avg       0.98      0.98      0.98       455\n",
      "   macro avg       0.98      0.98      0.98       455\n",
      "weighted avg       0.98      0.98      0.98       455\n",
      "\n"
     ]
    }
   ],
   "source": [
    "# Comfusion matrix\n",
    "import sklearn\n",
    "import numpy as np\n",
    "from mlxtend.plotting import plot_confusion_matrix\n",
    "import matplotlib.pyplot as plt\n",
    "\n",
    "y_pred = model.predict(X_test)\n",
    "Y_pred_classes = np.argmax(y_pred,axis=1) \n",
    "Y_true = np.argmax(Y_test,axis=1)\n",
    "confusion_mtx = sklearn.metrics.confusion_matrix(Y_true, Y_pred_classes) \n",
    "plot_confusion_matrix(confusion_mtx, class_names = allCategories() ) \n",
    "\n",
    "\n",
    "\n",
    "#plt.figure(figsize=(10,5))\n",
    "plt.show()\n",
    "from sklearn.metrics import classification_report\n",
    "class_names = allCategories()\n",
    "\n",
    "print(classification_report(Y_true, Y_pred_classes, target_names=class_names))\n"
   ]
  },
  {
   "cell_type": "code",
   "execution_count": null,
   "metadata": {},
   "outputs": [],
   "source": []
  },
  {
   "cell_type": "code",
   "execution_count": null,
   "metadata": {},
   "outputs": [],
   "source": []
  }
 ],
 "metadata": {
  "kernelspec": {
   "display_name": "Python 3",
   "language": "python",
   "name": "python3"
  },
  "language_info": {
   "codemirror_mode": {
    "name": "ipython",
    "version": 3
   },
   "file_extension": ".py",
   "mimetype": "text/x-python",
   "name": "python",
   "nbconvert_exporter": "python",
   "pygments_lexer": "ipython3",
   "version": "3.7.3"
  }
 },
 "nbformat": 4,
 "nbformat_minor": 2
}
