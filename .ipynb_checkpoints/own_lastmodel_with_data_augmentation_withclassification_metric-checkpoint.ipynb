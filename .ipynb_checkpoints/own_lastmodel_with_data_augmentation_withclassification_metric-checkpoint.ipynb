version https://git-lfs.github.com/spec/v1
oid sha256:60e2499d870df0be8083d2b835ccdd873cd435ec941025037a5a108cae456b95
size 206600
