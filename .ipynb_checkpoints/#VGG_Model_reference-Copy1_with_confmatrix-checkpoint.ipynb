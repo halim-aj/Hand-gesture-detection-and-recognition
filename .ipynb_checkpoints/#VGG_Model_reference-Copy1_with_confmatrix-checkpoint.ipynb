version https://git-lfs.github.com/spec/v1
oid sha256:d12ef1a70e3f74bad4ce4863037c896ce3faa4c2a17e8e3ca26b3c4cd7f1eedf
size 240053
