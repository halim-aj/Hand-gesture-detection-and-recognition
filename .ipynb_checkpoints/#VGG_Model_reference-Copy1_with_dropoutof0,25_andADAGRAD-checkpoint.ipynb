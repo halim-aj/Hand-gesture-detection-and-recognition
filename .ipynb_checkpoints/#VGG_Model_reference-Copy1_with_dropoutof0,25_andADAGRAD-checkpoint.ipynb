version https://git-lfs.github.com/spec/v1
oid sha256:69ed0a3cf1ba2d528fbac63389d9420ece5922855d56063105262d74c7f11428
size 242256
