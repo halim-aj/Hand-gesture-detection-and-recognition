version https://git-lfs.github.com/spec/v1
oid sha256:acd37f4f08a5a66dabbcb6dc014c2649fe420bb961ab4e924597c532a7b1bcef
size 239791
