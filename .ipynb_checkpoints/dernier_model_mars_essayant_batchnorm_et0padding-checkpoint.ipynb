version https://git-lfs.github.com/spec/v1
oid sha256:dfd88ba1838fa20f7da524b2dde7d75e7c21159a93b6b2740248638af86ed094
size 224519
