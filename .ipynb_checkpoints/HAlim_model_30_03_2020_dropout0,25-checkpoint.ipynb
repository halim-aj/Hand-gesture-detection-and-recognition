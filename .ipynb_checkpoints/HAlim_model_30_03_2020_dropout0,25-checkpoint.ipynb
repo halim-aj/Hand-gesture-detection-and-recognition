version https://git-lfs.github.com/spec/v1
oid sha256:b7fd467eac24edf2c403ccec41c21cad4436b639b9fba628e815d28e161f58a4
size 161051
