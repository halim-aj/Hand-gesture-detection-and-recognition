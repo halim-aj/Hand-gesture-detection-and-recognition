version https://git-lfs.github.com/spec/v1
oid sha256:5979a8b651e02857d3654c900288a14bf1eabd12b2b8298a963382dd0fc94d5a
size 253749
