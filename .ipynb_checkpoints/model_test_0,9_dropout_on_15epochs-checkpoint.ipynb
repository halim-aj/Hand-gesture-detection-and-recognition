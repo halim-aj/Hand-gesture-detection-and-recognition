version https://git-lfs.github.com/spec/v1
oid sha256:5891013d52631525c6f25b04379d898d495ef29dc1bdad9f5ebad641bd4a23da
size 215613
