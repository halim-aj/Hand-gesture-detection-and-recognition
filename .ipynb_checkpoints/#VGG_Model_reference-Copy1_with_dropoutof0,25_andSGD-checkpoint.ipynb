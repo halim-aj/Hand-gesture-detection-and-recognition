version https://git-lfs.github.com/spec/v1
oid sha256:0cfe658bcbe030dfadc0faf0004c2566e5ca34a776a7caefcee2f64cba736af9
size 220273
