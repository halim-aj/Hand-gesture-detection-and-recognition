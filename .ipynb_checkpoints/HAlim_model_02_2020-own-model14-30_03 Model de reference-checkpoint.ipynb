version https://git-lfs.github.com/spec/v1
oid sha256:77e6177fe070aa5f8f758c5d77b2977e7d7eed6914f25cdeff1494603233d91f
size 247210
