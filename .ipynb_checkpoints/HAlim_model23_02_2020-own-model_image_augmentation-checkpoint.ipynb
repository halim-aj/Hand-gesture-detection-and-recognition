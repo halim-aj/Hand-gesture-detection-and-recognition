version https://git-lfs.github.com/spec/v1
oid sha256:cfd6bb24a58bf7abe4d49533980768d390270c75560cb7953c232b67ea49bd50
size 198854
