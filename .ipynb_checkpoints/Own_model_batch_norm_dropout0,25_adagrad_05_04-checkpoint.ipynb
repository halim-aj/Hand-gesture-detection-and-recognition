{
 "cells": [
  {
   "cell_type": "code",
   "execution_count": 1,
   "metadata": {},
   "outputs": [],
   "source": [
    "import pickle\n",
    "import tensorflow as tf\n",
    "import numpy as np\n",
    "import matplotlib.pyplot as plt\n",
    "from util import allCategories,procImage,getCategory,oneHot,show"
   ]
  },
  {
   "cell_type": "code",
   "execution_count": 2,
   "metadata": {},
   "outputs": [],
   "source": [
    "X = pickle.load(open(\"formatted_dataset/X.pickle\",\"rb\"))\n",
    "Y = pickle.load(open(\"formatted_dataset/Y.pickle\",\"rb\"))\n",
    "X_test = pickle.load(open(\"formatted_dataset/X_test.pickle\",\"rb\"))\n",
    "Y_test = pickle.load(open(\"formatted_dataset/Y_test.pickle\",\"rb\"))"
   ]
  },
  {
   "cell_type": "code",
   "execution_count": 3,
   "metadata": {},
   "outputs": [],
   "source": [
    "#X.shape"
   ]
  },
  {
   "cell_type": "code",
   "execution_count": 4,
   "metadata": {},
   "outputs": [],
   "source": [
    "x_train = tf.keras.utils.normalize(X, axis = 1)\n",
    "y_train = tf.keras.utils.normalize(Y, axis = 1)\n",
    "X_test_norm = tf.keras.utils.normalize(X_test,axis = 1)\n",
    "Y_test_norm = tf.keras.utils.normalize(Y_test, axis = 1)"
   ]
  },
  {
   "cell_type": "code",
   "execution_count": 5,
   "metadata": {},
   "outputs": [],
   "source": [
    "# print(X.shape)\n",
    "# print(Y.shape)\n",
    "# print(X_test.shape)\n",
    "# print(Y_test.shape)"
   ]
  },
  {
   "cell_type": "code",
   "execution_count": 6,
   "metadata": {},
   "outputs": [],
   "source": [
    "#show(X,Y,15)"
   ]
  },
  {
   "cell_type": "markdown",
   "metadata": {},
   "source": []
  },
  {
   "cell_type": "code",
   "execution_count": 7,
   "metadata": {},
   "outputs": [
    {
     "name": "stdout",
     "output_type": "stream",
     "text": [
      "WARNING:tensorflow:From C:\\Users\\Halim\\Anaconda3\\lib\\site-packages\\tensorflow\\python\\ops\\init_ops.py:1251: calling VarianceScaling.__init__ (from tensorflow.python.ops.init_ops) with dtype is deprecated and will be removed in a future version.\n",
      "Instructions for updating:\n",
      "Call initializer instance with the dtype argument instead of passing it to the constructor\n"
     ]
    }
   ],
   "source": [
    "# Define the CNN Model \n",
    "# K.set_image_dim_ordering('th')\n",
    "from tensorflow.keras.optimizers import Adagrad\n",
    "from tensorflow.keras.layers import ZeroPadding2D,BatchNormalization\n",
    "model = tf.keras.models.Sequential()\n",
    "\n",
    "model.add(tf.keras.layers.Conv2D(32, (3, 3), activation='relu', input_shape=x_train.shape[1:]))\n",
    "#model.add(tf.keras.layers.Activation(\"relu\"))\n",
    "model.add(tf.keras.layers.MaxPooling2D(pool_size=(2,2)))\n",
    "\n",
    "model.add(tf.keras.layers.Conv2D(64,(3,3)))\n",
    "model.add(tf.keras.layers.Activation(\"relu\"))\n",
    "model.add(tf.keras.layers.MaxPooling2D(pool_size=(2,2)))\n",
    "model.add(BatchNormalization())\n",
    "model.add(ZeroPadding2D((1,1)))\n",
    "\n",
    "model.add(tf.keras.layers.Conv2D(128,(3,3)))\n",
    "model.add(tf.keras.layers.Activation(\"relu\"))\n",
    "model.add(tf.keras.layers.MaxPooling2D(pool_size=(2,2)))\n",
    "model.add(BatchNormalization())\n",
    "model.add(ZeroPadding2D((1,1)))\n",
    "\n",
    "model.add(tf.keras.layers.Conv2D(256,(3,3)))\n",
    "model.add(tf.keras.layers.Activation(\"relu\"))\n",
    "model.add(tf.keras.layers.MaxPooling2D(pool_size=(2,2)))\n",
    "\n",
    "model.add(tf.keras.layers.Conv2D(512,(3,3)))\n",
    "model.add(tf.keras.layers.Activation(\"relu\"))\n",
    "model.add(tf.keras.layers.MaxPooling2D(pool_size=(2,2)))\n",
    "# model.add(tf.keras.layers.Dropout(0.4))\n",
    "model.add(tf.keras.layers.Flatten())\n",
    "model.add(tf.keras.layers.Dropout(0.5))\n",
    "model.add(tf.keras.layers.Dense(64))\n",
    "model.add(tf.keras.layers.Activation(\"relu\"))\n",
    "model.add(tf.keras.layers.Dropout(0.5))\n",
    "\n",
    "model.add(tf.keras.layers.Dense(6))\n",
    "\n",
    "model.add(tf.keras.layers.Activation('softmax'))\n",
    "\n",
    "#sgd = SGD(lr=0.1, decay=1e-6, momentum=0.9, nesterov=True)\n",
    "\n",
    "#model.compile(optimizer=sgd, loss='categorical_crossentropy',metrics=['accuracy'])\n",
    "#model.compile(loss=\"'mean_squared_error'\",optimizer='adam',metrics=['accuracy'])\n",
    "tf.keras.optimizers.Adagrad(\n",
    "    learning_rate=0.001, initial_accumulator_value=0.1, epsilon=1e-07,\n",
    "    name='Adagrad', decay=1e-6\n",
    ")\n",
    "\n",
    "opt = Adagrad()\n",
    "#model.compile(..., optimizer=opt)\n",
    "model.compile( loss='categorical_crossentropy',metrics=['accuracy'],optimizer=opt)\n",
    "\n"
   ]
  },
  {
   "cell_type": "code",
   "execution_count": 8,
   "metadata": {},
   "outputs": [
    {
     "name": "stdout",
     "output_type": "stream",
     "text": [
      "Model: \"sequential\"\n",
      "_________________________________________________________________\n",
      "Layer (type)                 Output Shape              Param #   \n",
      "=================================================================\n",
      "conv2d (Conv2D)              (None, 118, 98, 32)       320       \n",
      "_________________________________________________________________\n",
      "max_pooling2d (MaxPooling2D) (None, 59, 49, 32)        0         \n",
      "_________________________________________________________________\n",
      "conv2d_1 (Conv2D)            (None, 57, 47, 64)        18496     \n",
      "_________________________________________________________________\n",
      "activation (Activation)      (None, 57, 47, 64)        0         \n",
      "_________________________________________________________________\n",
      "max_pooling2d_1 (MaxPooling2 (None, 28, 23, 64)        0         \n",
      "_________________________________________________________________\n",
      "batch_normalization (BatchNo (None, 28, 23, 64)        256       \n",
      "_________________________________________________________________\n",
      "zero_padding2d (ZeroPadding2 (None, 30, 25, 64)        0         \n",
      "_________________________________________________________________\n",
      "conv2d_2 (Conv2D)            (None, 28, 23, 128)       73856     \n",
      "_________________________________________________________________\n",
      "activation_1 (Activation)    (None, 28, 23, 128)       0         \n",
      "_________________________________________________________________\n",
      "max_pooling2d_2 (MaxPooling2 (None, 14, 11, 128)       0         \n",
      "_________________________________________________________________\n",
      "batch_normalization_1 (Batch (None, 14, 11, 128)       512       \n",
      "_________________________________________________________________\n",
      "zero_padding2d_1 (ZeroPaddin (None, 16, 13, 128)       0         \n",
      "_________________________________________________________________\n",
      "conv2d_3 (Conv2D)            (None, 14, 11, 256)       295168    \n",
      "_________________________________________________________________\n",
      "activation_2 (Activation)    (None, 14, 11, 256)       0         \n",
      "_________________________________________________________________\n",
      "max_pooling2d_3 (MaxPooling2 (None, 7, 5, 256)         0         \n",
      "_________________________________________________________________\n",
      "conv2d_4 (Conv2D)            (None, 5, 3, 512)         1180160   \n",
      "_________________________________________________________________\n",
      "activation_3 (Activation)    (None, 5, 3, 512)         0         \n",
      "_________________________________________________________________\n",
      "max_pooling2d_4 (MaxPooling2 (None, 2, 1, 512)         0         \n",
      "_________________________________________________________________\n",
      "flatten (Flatten)            (None, 1024)              0         \n",
      "_________________________________________________________________\n",
      "dropout (Dropout)            (None, 1024)              0         \n",
      "_________________________________________________________________\n",
      "dense (Dense)                (None, 64)                65600     \n",
      "_________________________________________________________________\n",
      "activation_4 (Activation)    (None, 64)                0         \n",
      "_________________________________________________________________\n",
      "dropout_1 (Dropout)          (None, 64)                0         \n",
      "_________________________________________________________________\n",
      "dense_1 (Dense)              (None, 6)                 390       \n",
      "_________________________________________________________________\n",
      "activation_5 (Activation)    (None, 6)                 0         \n",
      "=================================================================\n",
      "Total params: 1,634,758\n",
      "Trainable params: 1,634,374\n",
      "Non-trainable params: 384\n",
      "_________________________________________________________________\n"
     ]
    }
   ],
   "source": [
    "model.summary()"
   ]
  },
  {
   "cell_type": "code",
   "execution_count": 9,
   "metadata": {},
   "outputs": [
    {
     "name": "stdout",
     "output_type": "stream",
     "text": [
      "Train on 3300 samples, validate on 455 samples\n",
      "WARNING:tensorflow:From C:\\Users\\Halim\\Anaconda3\\lib\\site-packages\\tensorflow\\python\\keras\\optimizer_v2\\adagrad.py:105: calling Constant.__init__ (from tensorflow.python.ops.init_ops) with dtype is deprecated and will be removed in a future version.\n",
      "Instructions for updating:\n",
      "Call initializer instance with the dtype argument instead of passing it to the constructor\n",
      "Epoch 1/40\n",
      "3300/3300 - 38s - loss: 1.4871 - acc: 0.4048 - val_loss: 1.7954 - val_acc: 0.1648\n",
      "Epoch 2/40\n",
      "3300/3300 - 38s - loss: 0.9248 - acc: 0.6406 - val_loss: 1.8384 - val_acc: 0.1648\n",
      "Epoch 3/40\n",
      "3300/3300 - 38s - loss: 0.7139 - acc: 0.7339 - val_loss: 1.9501 - val_acc: 0.1648\n",
      "Epoch 4/40\n",
      "3300/3300 - 36s - loss: 0.5716 - acc: 0.8009 - val_loss: 1.7921 - val_acc: 0.3165\n",
      "Epoch 5/40\n",
      "3300/3300 - 37s - loss: 0.4929 - acc: 0.8370 - val_loss: 1.2649 - val_acc: 0.5626\n",
      "Epoch 6/40\n",
      "3300/3300 - 36s - loss: 0.4230 - acc: 0.8603 - val_loss: 0.6703 - val_acc: 0.7890\n",
      "Epoch 7/40\n",
      "3300/3300 - 37s - loss: 0.3665 - acc: 0.8800 - val_loss: 0.3840 - val_acc: 0.8484\n",
      "Epoch 8/40\n",
      "3300/3300 - 38s - loss: 0.3162 - acc: 0.9052 - val_loss: 0.2434 - val_acc: 0.9582\n",
      "Epoch 9/40\n",
      "3300/3300 - 37s - loss: 0.2882 - acc: 0.9079 - val_loss: 0.1997 - val_acc: 0.9626\n",
      "Epoch 10/40\n",
      "3300/3300 - 38s - loss: 0.2802 - acc: 0.9118 - val_loss: 0.1850 - val_acc: 0.9626\n",
      "Epoch 11/40\n",
      "3300/3300 - 37s - loss: 0.2414 - acc: 0.9221 - val_loss: 0.1787 - val_acc: 0.9516\n",
      "Epoch 12/40\n",
      "3300/3300 - 37s - loss: 0.2337 - acc: 0.9270 - val_loss: 0.1557 - val_acc: 0.9780\n",
      "Epoch 13/40\n",
      "3300/3300 - 37s - loss: 0.2123 - acc: 0.9394 - val_loss: 0.1508 - val_acc: 0.9714\n",
      "Epoch 14/40\n",
      "3300/3300 - 37s - loss: 0.2057 - acc: 0.9309 - val_loss: 0.1407 - val_acc: 0.9670\n",
      "Epoch 15/40\n",
      "3300/3300 - 37s - loss: 0.1857 - acc: 0.9452 - val_loss: 0.1363 - val_acc: 0.9714\n",
      "Epoch 16/40\n",
      "3300/3300 - 37s - loss: 0.1860 - acc: 0.9394 - val_loss: 0.1291 - val_acc: 0.9670\n",
      "Epoch 17/40\n",
      "3300/3300 - 37s - loss: 0.1666 - acc: 0.9497 - val_loss: 0.1252 - val_acc: 0.9736\n",
      "Epoch 18/40\n",
      "3300/3300 - 37s - loss: 0.1457 - acc: 0.9567 - val_loss: 0.1204 - val_acc: 0.9692\n",
      "Epoch 19/40\n",
      "3300/3300 - 37s - loss: 0.1441 - acc: 0.9567 - val_loss: 0.1177 - val_acc: 0.9692\n",
      "Epoch 20/40\n",
      "3300/3300 - 37s - loss: 0.1311 - acc: 0.9594 - val_loss: 0.1075 - val_acc: 0.9670\n",
      "Epoch 21/40\n",
      "3300/3300 - 38s - loss: 0.1283 - acc: 0.9645 - val_loss: 0.1276 - val_acc: 0.9648\n",
      "Epoch 22/40\n",
      "3300/3300 - 38s - loss: 0.1204 - acc: 0.9639 - val_loss: 0.1079 - val_acc: 0.9670\n",
      "Epoch 23/40\n",
      "3300/3300 - 37s - loss: 0.1217 - acc: 0.9661 - val_loss: 0.1252 - val_acc: 0.9604\n",
      "Epoch 24/40\n",
      "3300/3300 - 37s - loss: 0.1119 - acc: 0.9682 - val_loss: 0.0909 - val_acc: 0.9736\n",
      "Epoch 25/40\n",
      "3300/3300 - 37s - loss: 0.1135 - acc: 0.9694 - val_loss: 0.0906 - val_acc: 0.9758\n",
      "Epoch 26/40\n",
      "3300/3300 - 37s - loss: 0.1080 - acc: 0.9685 - val_loss: 0.0880 - val_acc: 0.9736\n",
      "Epoch 27/40\n",
      "3300/3300 - 37s - loss: 0.1020 - acc: 0.9700 - val_loss: 0.0881 - val_acc: 0.9736\n",
      "Epoch 28/40\n",
      "3300/3300 - 36s - loss: 0.0971 - acc: 0.9718 - val_loss: 0.0854 - val_acc: 0.9802\n",
      "Epoch 29/40\n",
      "3300/3300 - 36s - loss: 0.0894 - acc: 0.9736 - val_loss: 0.0901 - val_acc: 0.9758\n",
      "Epoch 30/40\n",
      "3300/3300 - 37s - loss: 0.0936 - acc: 0.9730 - val_loss: 0.0767 - val_acc: 0.9802\n",
      "Epoch 31/40\n",
      "3300/3300 - 38s - loss: 0.0864 - acc: 0.9773 - val_loss: 0.0846 - val_acc: 0.9780\n",
      "Epoch 32/40\n",
      "3300/3300 - 37s - loss: 0.0853 - acc: 0.9752 - val_loss: 0.0923 - val_acc: 0.9736\n",
      "Epoch 33/40\n",
      "3300/3300 - 38s - loss: 0.0813 - acc: 0.9770 - val_loss: 0.0789 - val_acc: 0.9758\n",
      "Epoch 34/40\n",
      "3300/3300 - 37s - loss: 0.0765 - acc: 0.9794 - val_loss: 0.0819 - val_acc: 0.9758\n",
      "Epoch 35/40\n",
      "3300/3300 - 37s - loss: 0.0689 - acc: 0.9836 - val_loss: 0.0756 - val_acc: 0.9802\n",
      "Epoch 36/40\n",
      "3300/3300 - 37s - loss: 0.0727 - acc: 0.9788 - val_loss: 0.0690 - val_acc: 0.9758\n",
      "Epoch 37/40\n",
      "3300/3300 - 37s - loss: 0.0736 - acc: 0.9791 - val_loss: 0.0768 - val_acc: 0.9824\n",
      "Epoch 38/40\n",
      "3300/3300 - 37s - loss: 0.0638 - acc: 0.9836 - val_loss: 0.0703 - val_acc: 0.9824\n",
      "Epoch 39/40\n",
      "3300/3300 - 37s - loss: 0.0673 - acc: 0.9806 - val_loss: 0.0746 - val_acc: 0.9802\n",
      "Epoch 40/40\n",
      "3300/3300 - 37s - loss: 0.0646 - acc: 0.9809 - val_loss: 0.0686 - val_acc: 0.9758\n"
     ]
    }
   ],
   "source": [
    "history = model.fit(X,Y,validation_data=(X_test,Y_test),batch_size=32, epochs=40, verbose = 2)"
   ]
  },
  {
   "cell_type": "code",
   "execution_count": 16,
   "metadata": {},
   "outputs": [
    {
     "data": {
      "image/png": "[encoded data removed]",
      "text/plain": [
       "<Figure size 432x288 with 1 Axes>"
      ]
     },
     "metadata": {
      "needs_background": "light"
     },
     "output_type": "display_data"
    }
   ],
   "source": [
    "plt.plot(history.history['acc'], label='acc')\n",
    "plt.plot(history.history['val_acc'], label = 'val_acc')\n",
    "plt.xlabel('Epoch')\n",
    "plt.ylabel('Accuracy')\n",
    "plt.ylim([0.0, 1.2])\n",
    "plt.legend(loc='lower right')\n",
    "\n",
    "# test_loss, test_acc = model.evaluate(X_test_norm,  Y_test_norm, verbose=2)\n",
    "plt.show()"
   ]
  },
  {
   "cell_type": "code",
   "execution_count": 11,
   "metadata": {},
   "outputs": [
    {
     "data": {
      "image/png": "[encoded data removed]",
      "text/plain": [
       "<Figure size 432x288 with 1 Axes>"
      ]
     },
     "metadata": {
      "needs_background": "light"
     },
     "output_type": "display_data"
    }
   ],
   "source": [
    "plt.plot(history.history['loss'], label='loss')\n",
    "plt.plot(history.history['val_loss'], label = 'val_loss')\n",
    "plt.xlabel('Epoch')\n",
    "plt.ylabel('loss')\n",
    "plt.ylim([-0.10, 1.8])\n",
    "plt.legend(loc='upper right')\n",
    "\n",
    "# test_loss, test_acc = model.evaluate(X_test_norm,  Y_test_norm, verbose=2)\n",
    "plt.show()"
   ]
  },
  {
   "cell_type": "code",
   "execution_count": 12,
   "metadata": {},
   "outputs": [],
   "source": [
    "from datetime import date\n",
    "today = date.today()\n",
    "d = today.strftime(\"%d%m%Y\")\n",
    "model.save(\"TrainedModel/Own_model_batch_norm_dropout0,5_adagrad_05_04\"+d+\".model\")"
   ]
  },
  {
   "cell_type": "code",
   "execution_count": 13,
   "metadata": {},
   "outputs": [],
   "source": [
    "#model2 = tf.keras.models.load_model(\"TrainedModel/own_lastmodel_version24022020.model\")"
   ]
  },
  {
   "cell_type": "code",
   "execution_count": 14,
   "metadata": {},
   "outputs": [
    {
     "name": "stdout",
     "output_type": "stream",
     "text": [
      "455/455 - 2s - loss: 0.0686 - acc: 0.9758\n"
     ]
    }
   ],
   "source": [
    "test_loss, test_acc = model.evaluate(X_test,Y_test, verbose=2)"
   ]
  },
  {
   "cell_type": "code",
   "execution_count": 15,
   "metadata": {},
   "outputs": [
    {
     "data": {
      "image/png": "[encoded data removed]",
      "text/plain": [
       "<Figure size 432x288 with 1 Axes>"
      ]
     },
     "metadata": {
      "needs_background": "light"
     },
     "output_type": "display_data"
    },
    {
     "name": "stdout",
     "output_type": "stream",
     "text": [
      "              precision    recall  f1-score   support\n",
      "\n",
      "        rock       0.97      0.96      0.97        75\n",
      "        Palm       0.98      0.99      0.98        80\n",
      "        Fist       0.99      1.00      0.99        75\n",
      "       swing       0.99      0.99      0.99        75\n",
      "           L       0.95      0.97      0.96        75\n",
      "        okay       0.99      0.95      0.97        75\n",
      "\n",
      "   micro avg       0.98      0.98      0.98       455\n",
      "   macro avg       0.98      0.98      0.98       455\n",
      "weighted avg       0.98      0.98      0.98       455\n",
      "\n"
     ]
    }
   ],
   "source": [
    "# Comfusion matrix\n",
    "import sklearn\n",
    "import numpy as np\n",
    "from mlxtend.plotting import plot_confusion_matrix\n",
    "import matplotlib.pyplot as plt\n",
    "\n",
    "y_pred = model.predict(X_test)\n",
    "Y_pred_classes = np.argmax(y_pred,axis=1) \n",
    "Y_true = np.argmax(Y_test,axis=1)\n",
    "confusion_mtx = sklearn.metrics.confusion_matrix(Y_true, Y_pred_classes) \n",
    "plot_confusion_matrix(confusion_mtx, class_names = allCategories() ) \n",
    "\n",
    "\n",
    "\n",
    "#plt.figure(figsize=(10,5))\n",
    "plt.show()\n",
    "from sklearn.metrics import classification_report\n",
    "class_names = allCategories()\n",
    "\n",
    "print(classification_report(Y_true, Y_pred_classes, target_names=class_names))"
   ]
  },
  {
   "cell_type": "code",
   "execution_count": null,
   "metadata": {},
   "outputs": [],
   "source": []
  }
 ],
 "metadata": {
  "kernelspec": {
   "display_name": "Python 3",
   "language": "python",
   "name": "python3"
  },
  "language_info": {
   "codemirror_mode": {
    "name": "ipython",
    "version": 3
   },
   "file_extension": ".py",
   "mimetype": "text/x-python",
   "name": "python",
   "nbconvert_exporter": "python",
   "pygments_lexer": "ipython3",
   "version": "3.7.3"
  }
 },
 "nbformat": 4,
 "nbformat_minor": 2
}
