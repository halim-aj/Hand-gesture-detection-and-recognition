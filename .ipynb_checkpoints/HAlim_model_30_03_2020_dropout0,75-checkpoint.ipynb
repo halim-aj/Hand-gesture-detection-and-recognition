version https://git-lfs.github.com/spec/v1
oid sha256:864e67fdc33d95931220d7245411745bcba8cfa8807cdc00138a1f06c23c0958
size 222400
