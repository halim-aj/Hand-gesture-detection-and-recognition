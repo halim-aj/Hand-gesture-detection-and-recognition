version https://git-lfs.github.com/spec/v1
oid sha256:0736304a7c42786836920c824f0f6b41dd4e5b451b0c9e0a394c1da22c41a6a4
size 226490
